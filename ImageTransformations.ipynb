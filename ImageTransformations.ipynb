{
  "nbformat": 4,
  "nbformat_minor": 0,
  "metadata": {
    "colab": {
      "name": "ImageTransformations.ipynb",
      "provenance": [],
      "collapsed_sections": []
    },
    "kernelspec": {
      "name": "python3",
      "display_name": "Python 3"
    }
  },
  "cells": [
    {
      "cell_type": "markdown",
      "metadata": {
        "id": "_sXDvlAkgLyx"
      },
      "source": [
        "**Why transform images?**\r\n",
        "\r\n",
        "For example when you need to pass images to a Machine Learning model so it can classify if it's a cat or a dog, and we want the image to be upright. To optimize the size of images so it doesn't take long to analyze them. Or when we need all the images to have the same proportion before processing them further.\r\n",
        "\r\n",
        "\r\n",
        "**Resizing**\r\n",
        "\r\n",
        "We can use the resize function from the transform module. This function requires the original image as the first parameter and a tuple holding the desired height and width to resize the image. Optionally, we can also set the anti-aliasing method.\r\n",
        "\r\n",
        "Anti aliasing method prevents poor pixelation effect to happen making it look better but less sharp"
      ]
    },
    {
      "cell_type": "code",
      "metadata": {
        "id": "24t2xf62gHre"
      },
      "source": [
        "from skimage.transform import rotate\r\n",
        "from skimage import data\r\n",
        "import matplotlib.pyplot as plt\r\n"
      ],
      "execution_count": null,
      "outputs": []
    },
    {
      "cell_type": "code",
      "metadata": {
        "id": "ukkPAjr0iQQn"
      },
      "source": [
        "def show_image(image,title='Image',cmap_type='gray'):\r\n",
        "  plt.imshow(image,cmap=cmap_type)\r\n",
        "  plt.title(title)\r\n",
        "  plt.axis(\"off\")\r\n",
        "  plt.show()"
      ],
      "execution_count": null,
      "outputs": []
    },
    {
      "cell_type": "code",
      "metadata": {
        "id": "uxXtAQmWiJJ_"
      },
      "source": [
        "img=data.horse()"
      ],
      "execution_count": null,
      "outputs": []
    },
    {
      "cell_type": "code",
      "metadata": {
        "colab": {
          "base_uri": "https://localhost:8080/",
          "height": 264
        },
        "id": "8u2iMbMMiTmk",
        "outputId": "ce1700bf-ab82-47ba-f82b-a7c4200e8668"
      },
      "source": [
        "show_image(img)"
      ],
      "execution_count": null,
      "outputs": [
        {
          "output_type": "display_data",
          "data": {
            "image/png": "[encoded data removed]",
            "text/plain": [
              "<Figure size 432x288 with 1 Axes>"
            ]
          },
          "metadata": {
            "tags": [],
            "needs_background": "light"
          }
        }
      ]
    },
    {
      "cell_type": "code",
      "metadata": {
        "id": "xwHW3n20h3Zi"
      },
      "source": [
        "image_rotated=rotate(img,+180)"
      ],
      "execution_count": null,
      "outputs": []
    },
    {
      "cell_type": "code",
      "metadata": {
        "colab": {
          "base_uri": "https://localhost:8080/",
          "height": 264
        },
        "id": "G0t8L1YNi0Jh",
        "outputId": "d6d5ff98-768d-4333-eb68-a4c8536258c6"
      },
      "source": [
        "show_image(image_rotated)"
      ],
      "execution_count": null,
      "outputs": [
        {
          "output_type": "display_data",
          "data": {
            "image/png": "[encoded data removed]",
            "text/plain": [
              "<Figure size 432x288 with 1 Axes>"
            ]
          },
          "metadata": {
            "tags": [],
            "needs_background": "light"
          }
        }
      ]
    },
    {
      "cell_type": "code",
      "metadata": {
        "id": "luOCD1rSi1-Y"
      },
      "source": [
        "from skimage.transform import rescale"
      ],
      "execution_count": null,
      "outputs": []
    },
    {
      "cell_type": "code",
      "metadata": {
        "colab": {
          "base_uri": "https://localhost:8080/",
          "height": 116
        },
        "id": "ZYjnkERSjZj5",
        "outputId": "82668395-b249-4b1f-b1dd-ebf35f9cfee3"
      },
      "source": [
        "rescaled=rescale(img,1/4,anti_aliasing=True,multichannel=True)\r\n",
        "show_image(rescaled)"
      ],
      "execution_count": null,
      "outputs": [
        {
          "output_type": "display_data",
          "data": {
            "image/png": "[encoded data removed]",
            "text/plain": [
              "<Figure size 432x288 with 1 Axes>"
            ]
          },
          "metadata": {
            "tags": [],
            "needs_background": "light"
          }
        }
      ]
    },
    {
      "cell_type": "code",
      "metadata": {
        "colab": {
          "base_uri": "https://localhost:8080/"
        },
        "id": "qWGQNqZpkTF4",
        "outputId": "8b0811f8-5053-4455-c8cd-76ea073ef03b"
      },
      "source": [
        "img.shape"
      ],
      "execution_count": null,
      "outputs": [
        {
          "output_type": "execute_result",
          "data": {
            "text/plain": [
              "(328, 400)"
            ]
          },
          "metadata": {
            "tags": []
          },
          "execution_count": 28
        }
      ]
    },
    {
      "cell_type": "code",
      "metadata": {
        "id": "QY6xWp5ejsTE"
      },
      "source": [
        "from skimage.transform import resize"
      ],
      "execution_count": null,
      "outputs": []
    },
    {
      "cell_type": "code",
      "metadata": {
        "colab": {
          "base_uri": "https://localhost:8080/",
          "height": 264
        },
        "id": "dpTWhiBnkQl7",
        "outputId": "d36ad482-455b-4836-a26a-83d26c563ec1"
      },
      "source": [
        "height=img.shape[0]/8\r\n",
        "width=img.shape[1]/8\r\n",
        "\r\n",
        "resized=resize(img,(height,width),anti_aliasing=True)\r\n",
        "show_image(resized)\r\n"
      ],
      "execution_count": null,
      "outputs": [
        {
          "output_type": "display_data",
          "data": {
            "image/png": "[encoded data removed]",
            "text/plain": [
              "<Figure size 432x288 with 1 Axes>"
            ]
          },
          "metadata": {
            "tags": [],
            "needs_background": "light"
          }
        }
      ]
    },
    {
      "cell_type": "code",
      "metadata": {
        "id": "-_ds9KwxklQG"
      },
      "source": [
        ""
      ],
      "execution_count": null,
      "outputs": []
    }
  ]
}