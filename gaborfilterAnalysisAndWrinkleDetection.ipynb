{
  "nbformat": 4,
  "nbformat_minor": 0,
  "metadata": {
    "colab": {
      "name": "gaborFilter.ipynb",
      "provenance": [],
      "collapsed_sections": []
    },
    "kernelspec": {
      "name": "python3",
      "display_name": "Python 3"
    }
  },
  "cells": [
    {
      "cell_type": "code",
      "metadata": {
        "id": "oQBe0uOXg74G"
      },
      "source": [
        "import numpy as np\n",
        "import pandas as pd\n",
        "import cv2"
      ],
      "execution_count": null,
      "outputs": []
    },
    {
      "cell_type": "code",
      "metadata": {
        "id": "3Z5NZ2E1h8IP"
      },
      "source": [
        "import matplotlib.pyplot as plt\n"
      ],
      "execution_count": null,
      "outputs": []
    },
    {
      "cell_type": "code",
      "metadata": {
        "id": "WMaXBqGghDVM"
      },
      "source": [
        "ksize=5\n",
        "sigma=3\n",
        "lamda=1*np.pi/4\n",
        "phi=0\n",
        "gamma= 0.5\n",
        "theta=1*np.pi/4"
      ],
      "execution_count": null,
      "outputs": []
    },
    {
      "cell_type": "code",
      "metadata": {
        "id": "jyW29wpohBEl"
      },
      "source": [
        "kernel=cv2.getGaborKernel((ksize,ksize),sigma,theta,lamda,gamma,phi,ktype=cv2.CV_32F)"
      ],
      "execution_count": null,
      "outputs": []
    },
    {
      "cell_type": "code",
      "metadata": {
        "colab": {
          "base_uri": "https://localhost:8080/",
          "height": 282
        },
        "id": "v44xEz-FhsO4",
        "outputId": "b67a4cfc-ea04-4cb7-f1a3-817d4e007ad5"
      },
      "source": [
        "plt.imshow(kernel)"
      ],
      "execution_count": null,
      "outputs": [
        {
          "output_type": "execute_result",
          "data": {
            "text/plain": [
              "<matplotlib.image.AxesImage at 0x7f32948e0400>"
            ]
          },
          "metadata": {
            "tags": []
          },
          "execution_count": 7
        },
        {
          "output_type": "display_data",
          "data": {
            "image/png": "[encoded data removed]",
            "text/plain": [
              "<Figure size 432x288 with 1 Axes>"
            ]
          },
          "metadata": {
            "tags": [],
            "needs_background": "light"
          }
        }
      ]
    },
    {
      "cell_type": "code",
      "metadata": {
        "colab": {
          "base_uri": "https://localhost:8080/",
          "height": 284
        },
        "id": "3fYwZWC9iCTf",
        "outputId": "d039616a-30e5-4803-f53e-6c406af67c46"
      },
      "source": [
        "kernel1=cv2.getGaborKernel((50,50),3,np.pi/4,np.pi/4,0.5,0,ktype=cv2.CV_32F)\n",
        "plt.imshow(kernel1)\n",
        "\n"
      ],
      "execution_count": null,
      "outputs": [
        {
          "output_type": "execute_result",
          "data": {
            "text/plain": [
              "<matplotlib.image.AxesImage at 0x7f3293fd2748>"
            ]
          },
          "metadata": {
            "tags": []
          },
          "execution_count": 10
        },
        {
          "output_type": "display_data",
          "data": {
            "image/png": "[encoded data removed]",
            "text/plain": [
              "<Figure size 432x288 with 1 Axes>"
            ]
          },
          "metadata": {
            "tags": [],
            "needs_background": "light"
          }
        }
      ]
    },
    {
      "cell_type": "code",
      "metadata": {
        "colab": {
          "base_uri": "https://localhost:8080/",
          "height": 284
        },
        "id": "NKeq8C--i9E4",
        "outputId": "5fe3da97-9a78-4ab7-8395-112ab759b25a"
      },
      "source": [
        "kernel1=cv2.getGaborKernel((50,50),3,np.pi/3,np.pi/3,0.5,0,ktype=cv2.CV_32F)\n",
        "plt.imshow(kernel1)"
      ],
      "execution_count": null,
      "outputs": [
        {
          "output_type": "execute_result",
          "data": {
            "text/plain": [
              "<matplotlib.image.AxesImage at 0x7f3293fad860>"
            ]
          },
          "metadata": {
            "tags": []
          },
          "execution_count": 11
        },
        {
          "output_type": "display_data",
          "data": {
            "image/png": "[encoded data removed]",
            "text/plain": [
              "<Figure size 432x288 with 1 Axes>"
            ]
          },
          "metadata": {
            "tags": [],
            "needs_background": "light"
          }
        }
      ]
    },
    {
      "cell_type": "code",
      "metadata": {
        "colab": {
          "base_uri": "https://localhost:8080/",
          "height": 284
        },
        "id": "P-_MfU1ljNEz",
        "outputId": "7a5dab41-ad61-458a-942f-80248464b980"
      },
      "source": [
        "kernel1=cv2.getGaborKernel((50,50),10,np.pi,np.pi,0.5,0,ktype=cv2.CV_32F)\n",
        "plt.imshow(kernel1)"
      ],
      "execution_count": null,
      "outputs": [
        {
          "output_type": "execute_result",
          "data": {
            "text/plain": [
              "<matplotlib.image.AxesImage at 0x7f3293e2bbe0>"
            ]
          },
          "metadata": {
            "tags": []
          },
          "execution_count": 15
        },
        {
          "output_type": "display_data",
          "data": {
            "image/png": "[encoded data removed]",
            "text/plain": [
              "<Figure size 432x288 with 1 Axes>"
            ]
          },
          "metadata": {
            "tags": [],
            "needs_background": "light"
          }
        }
      ]
    },
    {
      "cell_type": "code",
      "metadata": {
        "colab": {
          "base_uri": "https://localhost:8080/",
          "height": 284
        },
        "id": "2WkrrNyDjVYU",
        "outputId": "ad710074-273d-4a9c-c13e-6306c878cbb2"
      },
      "source": [
        "kernel1=cv2.getGaborKernel((50,50),3,np.pi/4,np.pi/4,0.01,0,ktype=cv2.CV_32F)\n",
        "plt.imshow(kernel1)"
      ],
      "execution_count": null,
      "outputs": [
        {
          "output_type": "execute_result",
          "data": {
            "text/plain": [
              "<matplotlib.image.AxesImage at 0x7f3293b5fe48>"
            ]
          },
          "metadata": {
            "tags": []
          },
          "execution_count": 23
        },
        {
          "output_type": "display_data",
          "data": {
            "image/png": "[encoded data removed]",
            "text/plain": [
              "<Figure size 432x288 with 1 Axes>"
            ]
          },
          "metadata": {
            "tags": [],
            "needs_background": "light"
          }
        }
      ]
    },
    {
      "cell_type": "code",
      "metadata": {
        "id": "kAd9oWkIooWF"
      },
      "source": [
        "from google.colab.patches import cv2_imshow"
      ],
      "execution_count": null,
      "outputs": []
    },
    {
      "cell_type": "code",
      "metadata": {
        "colab": {
          "base_uri": "https://localhost:8080/",
          "height": 211
        },
        "id": "dF1V6TPRkEeA",
        "outputId": "b935d612-13a6-48d9-8b58-e1b443730dd1"
      },
      "source": [
        "img_clr=cv2.imread('/content/wrinkledFace.jpg')\n",
        "img_bw=cv2.cvtColor(img_clr,cv2.COLOR_BGR2GRAY)\n",
        "\n",
        "\n",
        "cv2_imshow(img_bw)\n"
      ],
      "execution_count": null,
      "outputs": [
        {
          "output_type": "display_data",
          "data": {
            "image/png": "[encoded data removed]",
            "text/plain": [
              "<PIL.Image.Image image mode=L size=259x194 at 0x7F329383C6A0>"
            ]
          },
          "metadata": {
            "tags": []
          }
        }
      ]
    },
    {
      "cell_type": "code",
      "metadata": {
        "colab": {
          "base_uri": "https://localhost:8080/",
          "height": 459
        },
        "id": "UdmKGVmQ23Qo",
        "outputId": "52210a8b-26cd-4fed-ec19-b0fbf77296d4"
      },
      "source": [
        "fkernel=cv2.getGaborKernel((5,5),30,np.pi/8,np.pi/10,0.05,0.6,ktype=cv2.CV_32F)\n",
        "plt.imshow(fkernel)\n",
        "\n",
        "fimg=cv2.filter2D(img_bw,cv2.CV_8UC3,fkernel)\n",
        "\n",
        "\n",
        "cv2_imshow(fimg)\n",
        "cv2.waitKey()\n",
        "cv2.destroyAllWindows()"
      ],
      "execution_count": null,
      "outputs": [
        {
          "output_type": "display_data",
          "data": {
            "image/png": "[encoded data removed]",
            "text/plain": [
              "<PIL.Image.Image image mode=L size=259x194 at 0x7F3292D76C88>"
            ]
          },
          "metadata": {
            "tags": []
          }
        },
        {
          "output_type": "display_data",
          "data": {
            "image/png": "[encoded data removed]",
            "text/plain": [
              "<Figure size 432x288 with 1 Axes>"
            ]
          },
          "metadata": {
            "tags": [],
            "needs_background": "light"
          }
        }
      ]
    },
    {
      "cell_type": "markdown",
      "metadata": {
        "id": "WK8EPgDumiD-"
      },
      "source": [
        "# Bank of filters"
      ]
    },
    {
      "cell_type": "code",
      "metadata": {
        "id": "Ng9nUPmYJEiC"
      },
      "source": [
        "import pandas as pd\n"
      ],
      "execution_count": null,
      "outputs": []
    },
    {
      "cell_type": "code",
      "metadata": {
        "id": "XO58H4QmIMEf"
      },
      "source": [
        "img2=img_bw.reshape(-1)"
      ],
      "execution_count": null,
      "outputs": []
    },
    {
      "cell_type": "code",
      "metadata": {
        "colab": {
          "base_uri": "https://localhost:8080/"
        },
        "id": "iMQfvvvPILvC",
        "outputId": "fa351c39-606c-4f38-c159-c954cfcf0ad4"
      },
      "source": [
        "img_bw.shape"
      ],
      "execution_count": null,
      "outputs": [
        {
          "output_type": "execute_result",
          "data": {
            "text/plain": [
              "(194, 259)"
            ]
          },
          "metadata": {
            "tags": []
          },
          "execution_count": 55
        }
      ]
    },
    {
      "cell_type": "code",
      "metadata": {
        "colab": {
          "base_uri": "https://localhost:8080/"
        },
        "id": "XgK6LbprIZ7G",
        "outputId": "27eda448-34d1-4bfd-c3c1-9210587470bd"
      },
      "source": [
        "img2.shape"
      ],
      "execution_count": null,
      "outputs": [
        {
          "output_type": "execute_result",
          "data": {
            "text/plain": [
              "(50246,)"
            ]
          },
          "metadata": {
            "tags": []
          },
          "execution_count": 57
        }
      ]
    },
    {
      "cell_type": "code",
      "metadata": {
        "id": "BTXkIv1FI4Bp"
      },
      "source": [
        "df=pd.DataFrame()\n",
        "df['Original Image']=img2"
      ],
      "execution_count": null,
      "outputs": []
    },
    {
      "cell_type": "code",
      "metadata": {
        "colab": {
          "base_uri": "https://localhost:8080/"
        },
        "id": "iViyHWQYJKoF",
        "outputId": "65978448-2a22-433a-b7be-539144c86ee5"
      },
      "source": [
        "num=1\n",
        "kernels=[]\n",
        "for theta in (4,8):\n",
        "  theta=1/theta * np.pi\n",
        "  for sigma in (3,15,20):\n",
        "    for lamda in (np.pi/8,np.pi/9,np.pi/10):\n",
        "      for gamma in (0.05,0.08,0.01,0.1):\n",
        "        gabor_label='Gabor'+str(num)\n",
        "        ksize=5\n",
        "        phi=0.8\n",
        "        kernel=cv2.getGaborKernel((ksize,ksize),sigma,theta,lamda,gamma,phi,ktype=cv2.CV_32F)\n",
        "        kernels.append(kernel)\n",
        "\n",
        "        fimg=cv2.filter2D(img2,cv2.CV_8UC3,kernel)\n",
        "        #cv2_imshow(fimg)\n",
        "        filtered_img =fimg.reshape(-1)\n",
        "        cv2.imwrite('/content/images_v8/'+gabor_label+'.jpg',filtered_img.reshape(img_bw.shape))\n",
        "        df[gabor_label]=filtered_img\n",
        "        print(gabor_label,': theta= ',theta,': sigma=',sigma,': lamda=',lamda,': gamma=',gamma)\n",
        "        num+=1\n",
        "\n",
        "print(df.head())       "
      ],
      "execution_count": null,
      "outputs": [
        {
          "output_type": "stream",
          "text": [
            "Gabor1 : theta=  0.7853981633974483 : sigma= 3 : lamda= 0.39269908169872414 : gamma= 0.05\n",
            "Gabor2 : theta=  0.7853981633974483 : sigma= 3 : lamda= 0.39269908169872414 : gamma= 0.08\n",
            "Gabor3 : theta=  0.7853981633974483 : sigma= 3 : lamda= 0.39269908169872414 : gamma= 0.01\n",
            "Gabor4 : theta=  0.7853981633974483 : sigma= 3 : lamda= 0.39269908169872414 : gamma= 0.1\n",
            "Gabor5 : theta=  0.7853981633974483 : sigma= 3 : lamda= 0.3490658503988659 : gamma= 0.05\n",
            "Gabor6 : theta=  0.7853981633974483 : sigma= 3 : lamda= 0.3490658503988659 : gamma= 0.08\n",
            "Gabor7 : theta=  0.7853981633974483 : sigma= 3 : lamda= 0.3490658503988659 : gamma= 0.01\n",
            "Gabor8 : theta=  0.7853981633974483 : sigma= 3 : lamda= 0.3490658503988659 : gamma= 0.1\n",
            "Gabor9 : theta=  0.7853981633974483 : sigma= 3 : lamda= 0.3141592653589793 : gamma= 0.05\n",
            "Gabor10 : theta=  0.7853981633974483 : sigma= 3 : lamda= 0.3141592653589793 : gamma= 0.08\n",
            "Gabor11 : theta=  0.7853981633974483 : sigma= 3 : lamda= 0.3141592653589793 : gamma= 0.01\n",
            "Gabor12 : theta=  0.7853981633974483 : sigma= 3 : lamda= 0.3141592653589793 : gamma= 0.1\n",
            "Gabor13 : theta=  0.7853981633974483 : sigma= 15 : lamda= 0.39269908169872414 : gamma= 0.05\n",
            "Gabor14 : theta=  0.7853981633974483 : sigma= 15 : lamda= 0.39269908169872414 : gamma= 0.08\n",
            "Gabor15 : theta=  0.7853981633974483 : sigma= 15 : lamda= 0.39269908169872414 : gamma= 0.01\n",
            "Gabor16 : theta=  0.7853981633974483 : sigma= 15 : lamda= 0.39269908169872414 : gamma= 0.1\n",
            "Gabor17 : theta=  0.7853981633974483 : sigma= 15 : lamda= 0.3490658503988659 : gamma= 0.05\n",
            "Gabor18 : theta=  0.7853981633974483 : sigma= 15 : lamda= 0.3490658503988659 : gamma= 0.08\n",
            "Gabor19 : theta=  0.7853981633974483 : sigma= 15 : lamda= 0.3490658503988659 : gamma= 0.01\n",
            "Gabor20 : theta=  0.7853981633974483 : sigma= 15 : lamda= 0.3490658503988659 : gamma= 0.1\n",
            "Gabor21 : theta=  0.7853981633974483 : sigma= 15 : lamda= 0.3141592653589793 : gamma= 0.05\n",
            "Gabor22 : theta=  0.7853981633974483 : sigma= 15 : lamda= 0.3141592653589793 : gamma= 0.08\n",
            "Gabor23 : theta=  0.7853981633974483 : sigma= 15 : lamda= 0.3141592653589793 : gamma= 0.01\n",
            "Gabor24 : theta=  0.7853981633974483 : sigma= 15 : lamda= 0.3141592653589793 : gamma= 0.1\n",
            "Gabor25 : theta=  0.7853981633974483 : sigma= 20 : lamda= 0.39269908169872414 : gamma= 0.05\n",
            "Gabor26 : theta=  0.7853981633974483 : sigma= 20 : lamda= 0.39269908169872414 : gamma= 0.08\n",
            "Gabor27 : theta=  0.7853981633974483 : sigma= 20 : lamda= 0.39269908169872414 : gamma= 0.01\n",
            "Gabor28 : theta=  0.7853981633974483 : sigma= 20 : lamda= 0.39269908169872414 : gamma= 0.1\n",
            "Gabor29 : theta=  0.7853981633974483 : sigma= 20 : lamda= 0.3490658503988659 : gamma= 0.05\n",
            "Gabor30 : theta=  0.7853981633974483 : sigma= 20 : lamda= 0.3490658503988659 : gamma= 0.08\n",
            "Gabor31 : theta=  0.7853981633974483 : sigma= 20 : lamda= 0.3490658503988659 : gamma= 0.01\n",
            "Gabor32 : theta=  0.7853981633974483 : sigma= 20 : lamda= 0.3490658503988659 : gamma= 0.1\n",
            "Gabor33 : theta=  0.7853981633974483 : sigma= 20 : lamda= 0.3141592653589793 : gamma= 0.05\n",
            "Gabor34 : theta=  0.7853981633974483 : sigma= 20 : lamda= 0.3141592653589793 : gamma= 0.08\n",
            "Gabor35 : theta=  0.7853981633974483 : sigma= 20 : lamda= 0.3141592653589793 : gamma= 0.01\n",
            "Gabor36 : theta=  0.7853981633974483 : sigma= 20 : lamda= 0.3141592653589793 : gamma= 0.1\n",
            "Gabor37 : theta=  0.39269908169872414 : sigma= 3 : lamda= 0.39269908169872414 : gamma= 0.05\n",
            "Gabor38 : theta=  0.39269908169872414 : sigma= 3 : lamda= 0.39269908169872414 : gamma= 0.08\n",
            "Gabor39 : theta=  0.39269908169872414 : sigma= 3 : lamda= 0.39269908169872414 : gamma= 0.01\n",
            "Gabor40 : theta=  0.39269908169872414 : sigma= 3 : lamda= 0.39269908169872414 : gamma= 0.1\n",
            "Gabor41 : theta=  0.39269908169872414 : sigma= 3 : lamda= 0.3490658503988659 : gamma= 0.05\n",
            "Gabor42 : theta=  0.39269908169872414 : sigma= 3 : lamda= 0.3490658503988659 : gamma= 0.08\n",
            "Gabor43 : theta=  0.39269908169872414 : sigma= 3 : lamda= 0.3490658503988659 : gamma= 0.01\n",
            "Gabor44 : theta=  0.39269908169872414 : sigma= 3 : lamda= 0.3490658503988659 : gamma= 0.1\n",
            "Gabor45 : theta=  0.39269908169872414 : sigma= 3 : lamda= 0.3141592653589793 : gamma= 0.05\n",
            "Gabor46 : theta=  0.39269908169872414 : sigma= 3 : lamda= 0.3141592653589793 : gamma= 0.08\n",
            "Gabor47 : theta=  0.39269908169872414 : sigma= 3 : lamda= 0.3141592653589793 : gamma= 0.01\n",
            "Gabor48 : theta=  0.39269908169872414 : sigma= 3 : lamda= 0.3141592653589793 : gamma= 0.1\n",
            "Gabor49 : theta=  0.39269908169872414 : sigma= 15 : lamda= 0.39269908169872414 : gamma= 0.05\n",
            "Gabor50 : theta=  0.39269908169872414 : sigma= 15 : lamda= 0.39269908169872414 : gamma= 0.08\n",
            "Gabor51 : theta=  0.39269908169872414 : sigma= 15 : lamda= 0.39269908169872414 : gamma= 0.01\n",
            "Gabor52 : theta=  0.39269908169872414 : sigma= 15 : lamda= 0.39269908169872414 : gamma= 0.1\n",
            "Gabor53 : theta=  0.39269908169872414 : sigma= 15 : lamda= 0.3490658503988659 : gamma= 0.05\n",
            "Gabor54 : theta=  0.39269908169872414 : sigma= 15 : lamda= 0.3490658503988659 : gamma= 0.08\n",
            "Gabor55 : theta=  0.39269908169872414 : sigma= 15 : lamda= 0.3490658503988659 : gamma= 0.01\n",
            "Gabor56 : theta=  0.39269908169872414 : sigma= 15 : lamda= 0.3490658503988659 : gamma= 0.1\n",
            "Gabor57 : theta=  0.39269908169872414 : sigma= 15 : lamda= 0.3141592653589793 : gamma= 0.05\n",
            "Gabor58 : theta=  0.39269908169872414 : sigma= 15 : lamda= 0.3141592653589793 : gamma= 0.08\n",
            "Gabor59 : theta=  0.39269908169872414 : sigma= 15 : lamda= 0.3141592653589793 : gamma= 0.01\n",
            "Gabor60 : theta=  0.39269908169872414 : sigma= 15 : lamda= 0.3141592653589793 : gamma= 0.1\n",
            "Gabor61 : theta=  0.39269908169872414 : sigma= 20 : lamda= 0.39269908169872414 : gamma= 0.05\n",
            "Gabor62 : theta=  0.39269908169872414 : sigma= 20 : lamda= 0.39269908169872414 : gamma= 0.08\n",
            "Gabor63 : theta=  0.39269908169872414 : sigma= 20 : lamda= 0.39269908169872414 : gamma= 0.01\n",
            "Gabor64 : theta=  0.39269908169872414 : sigma= 20 : lamda= 0.39269908169872414 : gamma= 0.1\n",
            "Gabor65 : theta=  0.39269908169872414 : sigma= 20 : lamda= 0.3490658503988659 : gamma= 0.05\n",
            "Gabor66 : theta=  0.39269908169872414 : sigma= 20 : lamda= 0.3490658503988659 : gamma= 0.08\n",
            "Gabor67 : theta=  0.39269908169872414 : sigma= 20 : lamda= 0.3490658503988659 : gamma= 0.01\n",
            "Gabor68 : theta=  0.39269908169872414 : sigma= 20 : lamda= 0.3490658503988659 : gamma= 0.1\n",
            "Gabor69 : theta=  0.39269908169872414 : sigma= 20 : lamda= 0.3141592653589793 : gamma= 0.05\n",
            "Gabor70 : theta=  0.39269908169872414 : sigma= 20 : lamda= 0.3141592653589793 : gamma= 0.08\n",
            "Gabor71 : theta=  0.39269908169872414 : sigma= 20 : lamda= 0.3141592653589793 : gamma= 0.01\n",
            "Gabor72 : theta=  0.39269908169872414 : sigma= 20 : lamda= 0.3141592653589793 : gamma= 0.1\n",
            "   Original Image  Gabor1  Gabor2  Gabor3  ...  Gabor93  Gabor94  Gabor95  Gabor96\n",
            "0               0       0       0       0  ...        0        0        0        0\n",
            "1               0       0       0       0  ...        0        0        0        0\n",
            "2               0       0       0       0  ...        0        0        0        0\n",
            "3               0       0       0       0  ...        0        0        0        0\n",
            "4               0       0       0       0  ...        0        0        0        0\n",
            "\n",
            "[5 rows x 97 columns]\n"
          ],
          "name": "stdout"
        }
      ]
    },
    {
      "cell_type": "markdown",
      "metadata": {
        "id": "6H-whJVpelKq"
      },
      "source": [
        "# New Section"
      ]
    },
    {
      "cell_type": "code",
      "metadata": {
        "id": "CC47vy4QNm3M"
      },
      "source": [
        "def zipdir(path, ziph):\n",
        "    # ziph is zipfile handle\n",
        "    for root, dirs, files in os.walk(path):\n",
        "        for file in files:\n",
        "            ziph.write(os.path.join(root, file))\n",
        "import os\n",
        "import zipfile\n",
        "zipf = zipfile.ZipFile('images_v8.zip', 'w', zipfile.ZIP_DEFLATED)\n",
        "zipdir('/content/images_v8', zipf)\n",
        "zipf.close()"
      ],
      "execution_count": null,
      "outputs": []
    },
    {
      "cell_type": "code",
      "metadata": {
        "id": "unbNsN_UO8z0"
      },
      "source": [
        ""
      ],
      "execution_count": null,
      "outputs": []
    }
  ]
}